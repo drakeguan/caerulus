{
 "cells": [
  {
   "cell_type": "code",
   "execution_count": 4,
   "metadata": {
    "collapsed": false
   },
   "outputs": [
    {
     "name": "stdout",
     "output_type": "stream",
     "text": [
      "20160727_land\n"
     ]
    }
   ],
   "source": [
    "import os\n",
    "import shutil\n",
    "\n",
    "SOURCE_PATTERN = \"source\"\n",
    "PROD_PATTERN = \"prod\"\n",
    "CAM = \"cam\"\n",
    "CAM_PATTERN = \"cam%02d\"\n",
    "TAKE = \"take\"\n",
    "TAKE_PATTERN = \"take%02d\"\n",
    "CAM_NUM = 6\n",
    "\n",
    "os.chdir(\"/Volumes/ProCaerulus/2016_Orchidisland/20160727_land\")\n",
    "print 'current directory:', os.getcwd()\n",
    "root = os.path.split(os.getcwd())[1]\n",
    "print 'current root:', root\n",
    "\n",
    "for p in range(1, CAM_NUM+1):\n",
    "    cam_name = CAM_PATTERN % p\n",
    "    pdir = os.path.join(SOURCE_PATTERN, cam_name)\n",
    "\n",
    "    files = os.listdir(pdir)\n",
    "    files = filter(lambda f: f.lower().endswith(\"mp4\") and (not f.startswith(\".\")), files)\n",
    "\n",
    "    f_basename = [os.path.splitext(os.path.basename(f))[0] for f in files]\n",
    "    \n",
    "    files = [os.path.join(pdir, f) for f in files]\n",
    "    files = sorted(files, key=lambda f: os.path.getmtime(f))\n",
    "    \n",
    "    for (i, f) in enumerate(files):\n",
    "        tgt = \"prod/take%02d/%s_%s_take%02d_%s.mp4\" % (i+1, root, cam_name, i+1, f_basename[i])\n",
    "        print f, \"===>\", tgt\n",
    "        try:\n",
    "            os.makedirs(os.path.dirname(tgt))\n",
    "        except OSError:\n",
    "            pass\n",
    "        shutil.copyfile(f, tgt)\n",
    "\n",
    "print \"done\""
   ]
  },
  {
   "cell_type": "code",
   "execution_count": null,
   "metadata": {
    "collapsed": true
   },
   "outputs": [],
   "source": []
  }
 ],
 "metadata": {
  "kernelspec": {
   "display_name": "Python 2",
   "language": "python",
   "name": "python2"
  },
  "language_info": {
   "codemirror_mode": {
    "name": "ipython",
    "version": 2
   },
   "file_extension": ".py",
   "mimetype": "text/x-python",
   "name": "python",
   "nbconvert_exporter": "python",
   "pygments_lexer": "ipython2",
   "version": "2.7.11"
  }
 },
 "nbformat": 4,
 "nbformat_minor": 0
}
