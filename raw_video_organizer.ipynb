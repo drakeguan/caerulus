{
 "cells": [
  {
   "cell_type": "code",
   "execution_count": 4,
   "metadata": {
    "collapsed": false
   },
   "outputs": [
    {
     "name": "stdout",
     "output_type": "stream",
     "text": [
      "20160727_land\n"
     ]
    }
   ],
   "source": [
    "import os\n",
    "import shutil\n",
    "\n",
    "SOURCE_PATTERN = \"source\"\n",
    "PROD_PATTERN = \"prod\"\n",
    "CAM = \"cam\"\n",
    "CAM_PATTERN = \"cam%02d\"\n",
    "TAKE = \"take\"\n",
    "TAKE_PATTERN = \"take%02d\"\n",
    "CAM_NUM = 6\n",
    "\n",
    "os.chdir(\"/Volumes/ProCaerulus/2016_Orchidisland/20160727_land\")\n",
    "print os.path.split(os.getcwd())[1]"
   ]
  },
  {
   "cell_type": "code",
   "execution_count": 6,
   "metadata": {
    "collapsed": false
   },
   "outputs": [
    {
     "name": "stdout",
     "output_type": "stream",
     "text": [
      "source/cam01/GOPR2201.MP4 ===> prod/take01/20160727_land_cam01_take01_GOPR2201.mp4\n",
      "source/cam01/GOPR2202.MP4 ===> prod/take02/20160727_land_cam01_take02_GOPR2202.mp4\n",
      "source/cam01/GOPR2203.MP4 ===> prod/take03/20160727_land_cam01_take03_GOPR2203.mp4\n",
      "source/cam01/GOPR2204.MP4 ===> prod/take04/20160727_land_cam01_take04_GOPR2204.mp4\n",
      "source/cam01/GOPR2205.MP4 ===> prod/take05/20160727_land_cam01_take05_GOPR2205.mp4\n",
      "source/cam01/GOPR2206.MP4 ===> prod/take06/20160727_land_cam01_take06_GOPR2206.mp4\n",
      "source/cam01/GOPR2207.MP4 ===> prod/take07/20160727_land_cam01_take07_GOPR2207.mp4\n",
      "source/cam02/GOPR1668.MP4 ===> prod/take01/20160727_land_cam02_take01_GOPR1668.mp4\n",
      "source/cam02/GOPR1670.MP4 ===> prod/take02/20160727_land_cam02_take02_GOPR1670.mp4\n",
      "source/cam02/GOPR1671.MP4 ===> prod/take03/20160727_land_cam02_take03_GOPR1671.mp4\n",
      "source/cam02/GOPR1672.MP4 ===> prod/take04/20160727_land_cam02_take04_GOPR1672.mp4\n",
      "source/cam02/GOPR1673.MP4 ===> prod/take05/20160727_land_cam02_take05_GOPR1673.mp4\n",
      "source/cam02/GOPR1674.MP4 ===> prod/take06/20160727_land_cam02_take06_GOPR1674.mp4\n",
      "source/cam02/GOPR1675.MP4 ===> prod/take07/20160727_land_cam02_take07_GOPR1675.mp4\n",
      "source/cam03/GOPR3964.MP4 ===> prod/take01/20160727_land_cam03_take01_GOPR3964.mp4\n",
      "source/cam03/GOPR3965.MP4 ===> prod/take02/20160727_land_cam03_take02_GOPR3965.mp4\n",
      "source/cam03/GOPR3966.MP4 ===> prod/take03/20160727_land_cam03_take03_GOPR3966.mp4\n",
      "source/cam03/GOPR3967.MP4 ===> prod/take04/20160727_land_cam03_take04_GOPR3967.mp4\n",
      "source/cam03/GOPR3968.MP4 ===> prod/take05/20160727_land_cam03_take05_GOPR3968.mp4\n",
      "source/cam03/GOPR3969.MP4 ===> prod/take06/20160727_land_cam03_take06_GOPR3969.mp4\n",
      "source/cam03/GOPR3970.MP4 ===> prod/take07/20160727_land_cam03_take07_GOPR3970.mp4\n",
      "source/cam04/GOPR1669.MP4 ===> prod/take01/20160727_land_cam04_take01_GOPR1669.mp4\n",
      "source/cam04/GOPR1670.MP4 ===> prod/take02/20160727_land_cam04_take02_GOPR1670.mp4\n",
      "source/cam04/GOPR1671.MP4 ===> prod/take03/20160727_land_cam04_take03_GOPR1671.mp4\n",
      "source/cam04/GOPR1672.MP4 ===> prod/take04/20160727_land_cam04_take04_GOPR1672.mp4\n",
      "source/cam04/GOPR1673.MP4 ===> prod/take05/20160727_land_cam04_take05_GOPR1673.mp4\n",
      "source/cam04/GOPR1674.MP4 ===> prod/take06/20160727_land_cam04_take06_GOPR1674.mp4\n",
      "source/cam04/GOPR1675.MP4 ===> prod/take07/20160727_land_cam04_take07_GOPR1675.mp4\n",
      "source/cam05/GOPR9978.MP4 ===> prod/take01/20160727_land_cam05_take01_GOPR9978.mp4\n",
      "source/cam05/GOPR9979.MP4 ===> prod/take02/20160727_land_cam05_take02_GOPR9979.mp4\n",
      "source/cam05/GOPR9980.MP4 ===> prod/take03/20160727_land_cam05_take03_GOPR9980.mp4\n",
      "source/cam05/GOPR9981.MP4 ===> prod/take04/20160727_land_cam05_take04_GOPR9981.mp4\n",
      "source/cam05/GOPR9982.MP4 ===> prod/take05/20160727_land_cam05_take05_GOPR9982.mp4\n",
      "source/cam05/GOPR9983.MP4 ===> prod/take06/20160727_land_cam05_take06_GOPR9983.mp4\n",
      "source/cam05/GOPR9984.MP4 ===> prod/take07/20160727_land_cam05_take07_GOPR9984.mp4\n",
      "source/cam06/GOPR1601.MP4 ===> prod/take01/20160727_land_cam06_take01_GOPR1601.mp4\n",
      "source/cam06/GOPR1602.MP4 ===> prod/take02/20160727_land_cam06_take02_GOPR1602.mp4\n",
      "source/cam06/GOPR1603.MP4 ===> prod/take03/20160727_land_cam06_take03_GOPR1603.mp4\n",
      "source/cam06/GOPR1604.MP4 ===> prod/take04/20160727_land_cam06_take04_GOPR1604.mp4\n",
      "source/cam06/GOPR1605.MP4 ===> prod/take05/20160727_land_cam06_take05_GOPR1605.mp4\n",
      "source/cam06/GOPR1606.MP4 ===> prod/take06/20160727_land_cam06_take06_GOPR1606.mp4\n",
      "source/cam06/GOPR1607.MP4 ===> prod/take07/20160727_land_cam06_take07_GOPR1607.mp4\n"
     ]
    }
   ],
   "source": [
    "root = os.path.split(os.getcwd())[1]\n",
    "\n",
    "for p in range(1, CAM_NUM+1):\n",
    "    cam_name = CAM_PATTERN % p\n",
    "    pdir = os.path.join(SOURCE_PATTERN, cam_name)\n",
    "\n",
    "    files = os.listdir(pdir)\n",
    "    files = filter(lambda f: f.lower().endswith(\"mp4\") and (not f.startswith(\".\")), files)\n",
    "\n",
    "    f_basename = [os.path.splitext(os.path.basename(f))[0] for f in files]\n",
    "    \n",
    "    files = [os.path.join(pdir, f) for f in files]\n",
    "    files = sorted(files, key=lambda f: os.path.getmtime(f))\n",
    "    \n",
    "    for (i, f) in enumerate(files):\n",
    "        tgt = \"prod/take%02d/%s_%s_take%02d_%s.mp4\" % (i+1, root, cam_name, i+1, f_basename[i])\n",
    "        print f, \"===>\", tgt\n",
    "        try:\n",
    "            os.makedirs(os.path.dirname(tgt))\n",
    "        except OSError:\n",
    "            pass\n",
    "        shutil.copyfile(f, tgt)"
   ]
  },
  {
   "cell_type": "code",
   "execution_count": null,
   "metadata": {
    "collapsed": true
   },
   "outputs": [],
   "source": []
  }
 ],
 "metadata": {
  "kernelspec": {
   "display_name": "Python 2",
   "language": "python",
   "name": "python2"
  },
  "language_info": {
   "codemirror_mode": {
    "name": "ipython",
    "version": 2
   },
   "file_extension": ".py",
   "mimetype": "text/x-python",
   "name": "python",
   "nbconvert_exporter": "python",
   "pygments_lexer": "ipython2",
   "version": "2.7.11"
  }
 },
 "nbformat": 4,
 "nbformat_minor": 0
}
